{
  "nbformat": 4,
  "nbformat_minor": 0,
  "metadata": {
    "colab": {
      "provenance": [],
      "authorship_tag": "ABX9TyNjnuDnE6UtolnOtRKPP1WN",
      "include_colab_link": true
    },
    "kernelspec": {
      "name": "python3",
      "display_name": "Python 3"
    },
    "language_info": {
      "name": "python"
    }
  },
  "cells": [
    {
      "cell_type": "markdown",
      "metadata": {
        "id": "view-in-github",
        "colab_type": "text"
      },
      "source": [
        "<a href=\"https://colab.research.google.com/github/rithikavishwanath/DSA/blob/main/LinkedList.ipynb\" target=\"_parent\"><img src=\"https://colab.research.google.com/assets/colab-badge.svg\" alt=\"Open In Colab\"/></a>"
      ]
    },
    {
      "cell_type": "code",
      "execution_count": null,
      "metadata": {
        "id": "C9aIqPlyQ2s-"
      },
      "outputs": [],
      "source": [
        "# creating the node\n",
        "class Node:\n",
        "\n",
        "  def __init__(self, value):\n",
        "    self.data = value\n",
        "    self.next = None"
      ]
    },
    {
      "cell_type": "code",
      "source": [
        "a= Node(1)"
      ],
      "metadata": {
        "id": "1lMsQvTZRGIU"
      },
      "execution_count": null,
      "outputs": []
    },
    {
      "cell_type": "code",
      "source": [
        "print(a)"
      ],
      "metadata": {
        "colab": {
          "base_uri": "https://localhost:8080/"
        },
        "id": "NgV9vAWvRI5c",
        "outputId": "63c0e76d-7337-4e30-8ee9-73aa4e05d682"
      },
      "execution_count": null,
      "outputs": [
        {
          "output_type": "stream",
          "name": "stdout",
          "text": [
            "<__main__.Node object at 0x790f2e24db40>\n"
          ]
        }
      ]
    },
    {
      "cell_type": "code",
      "source": [
        "print(a.data)\n",
        "print(a.next)"
      ],
      "metadata": {
        "colab": {
          "base_uri": "https://localhost:8080/"
        },
        "id": "7POZ-xY_RKlh",
        "outputId": "d0007426-3cd2-4b84-8e8e-42684c171e31"
      },
      "execution_count": null,
      "outputs": [
        {
          "output_type": "stream",
          "name": "stdout",
          "text": [
            "1\n",
            "None\n"
          ]
        }
      ]
    },
    {
      "cell_type": "code",
      "source": [
        "b = Node(2)\n",
        "c = Node(3)\n",
        "d = Node(4)"
      ],
      "metadata": {
        "id": "HVpAficKRMi6"
      },
      "execution_count": null,
      "outputs": []
    },
    {
      "cell_type": "code",
      "source": [
        "a.next = b\n",
        "b.next = c\n",
        "c.next = d"
      ],
      "metadata": {
        "id": "52i_jQ3RRZrl"
      },
      "execution_count": null,
      "outputs": []
    },
    {
      "cell_type": "code",
      "source": [
        "print(a.next.data)"
      ],
      "metadata": {
        "colab": {
          "base_uri": "https://localhost:8080/"
        },
        "id": "O5liMHgVRfnh",
        "outputId": "f03fff5f-ee2c-45ac-fecd-0d129586e61a"
      },
      "execution_count": null,
      "outputs": [
        {
          "output_type": "stream",
          "name": "stdout",
          "text": [
            "2\n"
          ]
        }
      ]
    },
    {
      "cell_type": "code",
      "source": [
        "# creating the linked List\n",
        "\n",
        "class LinkedList:\n",
        "\n",
        "  def __init__(self):\n",
        "    self.head = None\n",
        "    self.n = 0\n",
        "\n",
        "  # size of the linked list\n",
        "  def __len__(self):\n",
        "    return self.n\n",
        "\n",
        "\n",
        "  # append the element\n",
        "  def insert_head(self, value):\n",
        "    new_node = Node(value)\n",
        "\n",
        "    # connection\n",
        "    new_node.next= self.head\n",
        "\n",
        "    # reassign head\n",
        "    self.head= new_node\n",
        "    self.n = self.n + 1\n",
        "\n",
        "  # adding at the tail\n",
        "  def insert_tail(self, value):\n",
        "    new_node = Node(value)\n",
        "\n",
        "    # travers till the tail\n",
        "    cur = self.head\n",
        "\n",
        "    if(cur == None):\n",
        "      cur = new_node\n",
        "      self.head = cur\n",
        "      self.n = self.n + 1\n",
        "      return\n",
        "\n",
        "    while cur.next != None:\n",
        "      cur = cur.next\n",
        "\n",
        "    cur.next = new_node\n",
        "    self.n = self.n + 1\n",
        "\n",
        "\n",
        "  # adding after a particular element\n",
        "  def insert_after(self, after, value):\n",
        "    new_node = Node(value)\n",
        "\n",
        "    cur = self.head\n",
        "    while cur != None:\n",
        "      if cur.data == after:\n",
        "        break\n",
        "      cur = cur.next\n",
        "\n",
        "    if cur != None:\n",
        "      new_node.next = cur.next\n",
        "      cur.next = new_node\n",
        "\n",
        "      self.n = self.n +1\n",
        "    else:\n",
        "      return 'iteam not found'\n",
        "\n",
        "\n",
        "  def clear(self):\n",
        "    self.head = None\n",
        "    self.n = 0\n",
        "\n",
        "  def delete_head(self):\n",
        "\n",
        "    if self.head == None:\n",
        "      return 'Empty LinkedList'\n",
        "\n",
        "    self.head = self.head.next\n",
        "    self.n = self.n - 1\n",
        "\n",
        "  def delete_tail(self):\n",
        "    cur = self.head\n",
        "\n",
        "    if cur == None:\n",
        "      return 'Empty LinkedList'\n",
        "\n",
        "    if cur.next == None:\n",
        "      return self.delete_head()\n",
        "\n",
        "    while cur.next.next != None:\n",
        "      cur = cur.next\n",
        "    cur.next = None\n",
        "    self.n = self.n - 1\n",
        "\n",
        "\n",
        "  def remove(self, value):\n",
        "    cur = self.head\n",
        "\n",
        "    if self.head.data == None:\n",
        "      return 'Empty LinkedList'\n",
        "\n",
        "    if self.head.data == value:\n",
        "      return self.delete_head()\n",
        "\n",
        "    while cur != None:\n",
        "      if cur.next.data == value:\n",
        "        break\n",
        "      cur = cur.next\n",
        "\n",
        "    if cur == None:\n",
        "      return 'Not Found'\n",
        "    else:\n",
        "      cur.next = cur.next.next\n",
        "      self.n = self.n - 1\n",
        "\n",
        "\n",
        "  def search(self, value):\n",
        "    cur = self.head\n",
        "\n",
        "    if self.head == None:\n",
        "      return 'Empty LinkedList'\n",
        "\n",
        "    index=0\n",
        "    while cur != None:\n",
        "      if cur.data == value:\n",
        "        return index\n",
        "      cur = cur.next\n",
        "      index = index + 1\n",
        "\n",
        "    return 'Not found'\n",
        "\n",
        "  def __getitem__(self, value):\n",
        "    cur = self.head\n",
        "    if value >= self.n:\n",
        "      return 'out of bound'\n",
        "    num=0\n",
        "    while cur != None:\n",
        "      if num == value:\n",
        "        return cur.data\n",
        "      cur = cur.next\n",
        "      num = num + 1\n",
        "\n",
        "  # def delete(self, index):\n",
        "  #   cur = self.head\n",
        "\n",
        "  # print the array\n",
        "  def __str__(self):\n",
        "\n",
        "    cur = self.head\n",
        "\n",
        "    result = ''\n",
        "    while cur!= None:\n",
        "      result = result + str(cur.data) + '->'\n",
        "      cur = cur.next\n",
        "\n",
        "    return result[:-2]\n",
        "\n",
        "#  Execise\n",
        "\n",
        "# max num and replace it with the given one\n",
        "\n",
        "  def maxreplace(self, value):\n",
        "    cur = self.head\n",
        "    max = self.head.data\n",
        "    maxcur = cur\n",
        "\n",
        "    while cur != None:\n",
        "      if max <= cur.data:\n",
        "        max = cur.data\n",
        "        maxcur= cur\n",
        "      cur = cur.next\n",
        "\n",
        "    maxcur.data= value\n",
        "\n",
        "# sum of odd postion of the list\n",
        "  def oddsum(self):\n",
        "    cur = self.head\n",
        "    if cur == None:\n",
        "      return 'Empty LinkedList'\n",
        "    if cur.next == None:\n",
        "      return cur.data\n",
        "    num=0\n",
        "    sum=0\n",
        "    while cur != None:\n",
        "      if num % 2 != 0:\n",
        "        sum = sum +cur.data\n",
        "      num = num + 1\n",
        "      cur = cur.next\n",
        "    return sum\n",
        "\n",
        "\n",
        "# reverse the linkedlist\n",
        "  def reverse(self):\n",
        "    prev_node = None\n",
        "    cur = self.head\n",
        "    temp = self.head\n",
        "\n",
        "    while cur != None:\n",
        "      next_node = cur.next\n",
        "      cur.next = prev_node\n",
        "      prev_node = cur\n",
        "      cur = next_node\n",
        "\n",
        "    self.head = prev_node\n",
        "\n",
        "\n",
        "# remove / * and replace with space and if contive are present than next apla is capteial\n",
        "  def stringexe(self):\n",
        "    curr = self.head\n",
        "    while curr != None:\n",
        "      if curr.data == '/' or curr.data == '*':\n",
        "        curr.data = ' '\n",
        "        if curr.next.data == '/' or  curr.next.data == '*':\n",
        "          curr.next.next.data = curr.next.next.data.Upper()\n",
        "        else:\n",
        "          curr.data=' '\n",
        "\n"
      ],
      "metadata": {
        "id": "GZhasuV6Rjn8"
      },
      "execution_count": null,
      "outputs": []
    },
    {
      "cell_type": "code",
      "source": [
        "L = LinkedList()"
      ],
      "metadata": {
        "id": "AILDpEVqR1Zd"
      },
      "execution_count": null,
      "outputs": []
    },
    {
      "cell_type": "code",
      "source": [
        "L.clear()"
      ],
      "metadata": {
        "id": "1CjMCM-hXloo"
      },
      "execution_count": null,
      "outputs": []
    },
    {
      "cell_type": "code",
      "source": [
        "L.insert_head(10)\n",
        "L.insert_head(20)"
      ],
      "metadata": {
        "id": "JSb4qrlXR4rQ"
      },
      "execution_count": null,
      "outputs": []
    },
    {
      "cell_type": "code",
      "source": [
        "L.insert_tail(1)\n",
        "L.insert_tail(4)"
      ],
      "metadata": {
        "id": "B6mWs_yPR9nu"
      },
      "execution_count": null,
      "outputs": []
    },
    {
      "cell_type": "code",
      "source": [
        "L.insert_after(9, 9)"
      ],
      "metadata": {
        "colab": {
          "base_uri": "https://localhost:8080/",
          "height": 35
        },
        "id": "13I46kTuU_1k",
        "outputId": "17315fb1-d036-45c3-c705-8f02b63359e2"
      },
      "execution_count": null,
      "outputs": [
        {
          "output_type": "execute_result",
          "data": {
            "text/plain": [
              "'iteam not found'"
            ],
            "application/vnd.google.colaboratory.intrinsic+json": {
              "type": "string"
            }
          },
          "metadata": {},
          "execution_count": 30
        }
      ]
    },
    {
      "cell_type": "code",
      "source": [
        "len(L)"
      ],
      "metadata": {
        "colab": {
          "base_uri": "https://localhost:8080/"
        },
        "id": "RaW4oC-aW4qa",
        "outputId": "b3a11a62-4d6f-4aa2-89ec-934c9e8967d3"
      },
      "execution_count": null,
      "outputs": [
        {
          "output_type": "execute_result",
          "data": {
            "text/plain": [
              "4"
            ]
          },
          "metadata": {},
          "execution_count": 31
        }
      ]
    },
    {
      "cell_type": "code",
      "source": [
        "print(L)"
      ],
      "metadata": {
        "colab": {
          "base_uri": "https://localhost:8080/"
        },
        "id": "GBT8trDCR7Ce",
        "outputId": "a50d6fa9-8775-4179-de28-c3432ac58d39"
      },
      "execution_count": null,
      "outputs": [
        {
          "output_type": "stream",
          "name": "stdout",
          "text": [
            "20->10->1->4\n"
          ]
        }
      ]
    },
    {
      "cell_type": "code",
      "source": [
        "L.search(100)"
      ],
      "metadata": {
        "colab": {
          "base_uri": "https://localhost:8080/",
          "height": 35
        },
        "id": "mHWKKHZdeSf8",
        "outputId": "d959d84a-03ad-4f81-8273-a7c41d3d29d2"
      },
      "execution_count": null,
      "outputs": [
        {
          "output_type": "execute_result",
          "data": {
            "text/plain": [
              "'Not found'"
            ],
            "application/vnd.google.colaboratory.intrinsic+json": {
              "type": "string"
            }
          },
          "metadata": {},
          "execution_count": 33
        }
      ]
    },
    {
      "cell_type": "code",
      "source": [
        "L[3]"
      ],
      "metadata": {
        "colab": {
          "base_uri": "https://localhost:8080/"
        },
        "id": "CIeyp6Rkg7Cq",
        "outputId": "a8723275-7c5e-47c1-f4df-a1b7cf44aff4"
      },
      "execution_count": null,
      "outputs": [
        {
          "output_type": "execute_result",
          "data": {
            "text/plain": [
              "4"
            ]
          },
          "metadata": {},
          "execution_count": 34
        }
      ]
    },
    {
      "cell_type": "code",
      "source": [
        "L.maxreplace(100)"
      ],
      "metadata": {
        "id": "L0VkTwf5nsn6"
      },
      "execution_count": null,
      "outputs": []
    },
    {
      "cell_type": "code",
      "source": [
        "L.oddsum()"
      ],
      "metadata": {
        "colab": {
          "base_uri": "https://localhost:8080/"
        },
        "id": "VkdukJx0rHZx",
        "outputId": "9fa941cc-3748-48a0-b7ae-dbdf8335c17e"
      },
      "execution_count": null,
      "outputs": [
        {
          "output_type": "execute_result",
          "data": {
            "text/plain": [
              "14"
            ]
          },
          "metadata": {},
          "execution_count": 36
        }
      ]
    },
    {
      "cell_type": "code",
      "source": [
        "L.reverse()"
      ],
      "metadata": {
        "id": "__LWsW6B4A7q"
      },
      "execution_count": null,
      "outputs": []
    },
    {
      "cell_type": "code",
      "source": [
        "print(L)"
      ],
      "metadata": {
        "colab": {
          "base_uri": "https://localhost:8080/"
        },
        "id": "EcL7j8rS8OGS",
        "outputId": "f8a6b51a-ecb8-45c0-ed9e-fe51213d24f6"
      },
      "execution_count": null,
      "outputs": [
        {
          "output_type": "stream",
          "name": "stdout",
          "text": [
            "4->1->10->100\n"
          ]
        }
      ]
    },
    {
      "cell_type": "code",
      "source": [
        "word = LinkedList()"
      ],
      "metadata": {
        "id": "3dggDhhX_8Ua"
      },
      "execution_count": null,
      "outputs": []
    },
    {
      "cell_type": "code",
      "source": [
        "word.insert_tail('T')\n",
        "word.insert_tail('h')\n",
        "word.insert_tail('e')\n",
        "word.insert_tail('/')\n",
        "word.insert_tail('*')\n",
        "word.insert_tail('s')\n",
        "word.insert_tail('k')\n",
        "word.insert_tail('y')\n",
        "word.insert_tail('*')\n",
        "word.insert_tail('i')\n",
        "word.insert_tail('s')\n",
        "word.insert_tail('/')\n",
        "word.insert_tail('/')\n",
        "word.insert_tail('b')\n",
        "word.insert_tail('l')\n",
        "word.insert_tail('u')\n",
        "word.insert_tail('e')"
      ],
      "metadata": {
        "id": "g8xUT2SmBl_a"
      },
      "execution_count": null,
      "outputs": []
    },
    {
      "cell_type": "code",
      "source": [
        "print(word)\n"
      ],
      "metadata": {
        "colab": {
          "base_uri": "https://localhost:8080/"
        },
        "id": "FQUbBLnoB7Gr",
        "outputId": "ec762e05-b465-46d3-9436-0e7f4be537dd"
      },
      "execution_count": null,
      "outputs": [
        {
          "output_type": "stream",
          "name": "stdout",
          "text": [
            "T->h->e->/->*->s->k->y->*->i->s->/->/->b->l->u->e\n"
          ]
        }
      ]
    },
    {
      "cell_type": "code",
      "source": [
        "word.stringexe()"
      ],
      "metadata": {
        "colab": {
          "base_uri": "https://localhost:8080/",
          "height": 304
        },
        "id": "QDaGU-KBCBcz",
        "outputId": "e7d5a273-7ee9-4183-e26e-2255f0d657cf"
      },
      "execution_count": null,
      "outputs": [
        {
          "output_type": "error",
          "ename": "KeyboardInterrupt",
          "evalue": "ignored",
          "traceback": [
            "\u001b[0;31m---------------------------------------------------------------------------\u001b[0m",
            "\u001b[0;31mKeyboardInterrupt\u001b[0m                         Traceback (most recent call last)",
            "\u001b[0;32m<ipython-input-42-817d131611cc>\u001b[0m in \u001b[0;36m<cell line: 1>\u001b[0;34m()\u001b[0m\n\u001b[0;32m----> 1\u001b[0;31m \u001b[0mword\u001b[0m\u001b[0;34m.\u001b[0m\u001b[0mstringexe\u001b[0m\u001b[0;34m(\u001b[0m\u001b[0;34m)\u001b[0m\u001b[0;34m\u001b[0m\u001b[0;34m\u001b[0m\u001b[0m\n\u001b[0m",
            "\u001b[0;32m<ipython-input-25-c49a5b55938d>\u001b[0m in \u001b[0;36mstringexe\u001b[0;34m(self)\u001b[0m\n\u001b[1;32m    204\u001b[0m     \u001b[0mcurr\u001b[0m \u001b[0;34m=\u001b[0m \u001b[0mself\u001b[0m\u001b[0;34m.\u001b[0m\u001b[0mhead\u001b[0m\u001b[0;34m\u001b[0m\u001b[0;34m\u001b[0m\u001b[0m\n\u001b[1;32m    205\u001b[0m     \u001b[0;32mwhile\u001b[0m \u001b[0mcurr\u001b[0m \u001b[0;34m!=\u001b[0m \u001b[0;32mNone\u001b[0m\u001b[0;34m:\u001b[0m\u001b[0;34m\u001b[0m\u001b[0;34m\u001b[0m\u001b[0m\n\u001b[0;32m--> 206\u001b[0;31m       \u001b[0;32mif\u001b[0m \u001b[0mcurr\u001b[0m\u001b[0;34m.\u001b[0m\u001b[0mdata\u001b[0m \u001b[0;34m==\u001b[0m \u001b[0;34m'/'\u001b[0m \u001b[0;32mor\u001b[0m \u001b[0mcurr\u001b[0m\u001b[0;34m.\u001b[0m\u001b[0mdata\u001b[0m \u001b[0;34m==\u001b[0m \u001b[0;34m'*'\u001b[0m\u001b[0;34m:\u001b[0m\u001b[0;34m\u001b[0m\u001b[0;34m\u001b[0m\u001b[0m\n\u001b[0m\u001b[1;32m    207\u001b[0m         \u001b[0mcurr\u001b[0m\u001b[0;34m.\u001b[0m\u001b[0mdata\u001b[0m \u001b[0;34m=\u001b[0m \u001b[0;34m' '\u001b[0m\u001b[0;34m\u001b[0m\u001b[0;34m\u001b[0m\u001b[0m\n\u001b[1;32m    208\u001b[0m         \u001b[0;32mif\u001b[0m \u001b[0mcurr\u001b[0m\u001b[0;34m.\u001b[0m\u001b[0mnext\u001b[0m\u001b[0;34m.\u001b[0m\u001b[0mdata\u001b[0m \u001b[0;34m==\u001b[0m \u001b[0;34m'/'\u001b[0m \u001b[0;32mor\u001b[0m  \u001b[0mcurr\u001b[0m\u001b[0;34m.\u001b[0m\u001b[0mnext\u001b[0m\u001b[0;34m.\u001b[0m\u001b[0mdata\u001b[0m \u001b[0;34m==\u001b[0m \u001b[0;34m'*'\u001b[0m\u001b[0;34m:\u001b[0m\u001b[0;34m\u001b[0m\u001b[0;34m\u001b[0m\u001b[0m\n",
            "\u001b[0;31mKeyboardInterrupt\u001b[0m: "
          ]
        }
      ]
    },
    {
      "cell_type": "code",
      "source": [],
      "metadata": {
        "id": "qyqZ0AgYD8yn"
      },
      "execution_count": null,
      "outputs": []
    }
  ]
}