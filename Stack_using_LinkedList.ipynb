{
  "nbformat": 4,
  "nbformat_minor": 0,
  "metadata": {
    "colab": {
      "provenance": [],
      "gpuType": "T4"
    },
    "kernelspec": {
      "name": "python3",
      "display_name": "Python 3"
    },
    "language_info": {
      "name": "python"
    },
    "accelerator": "GPU"
  },
  "cells": [
    {
      "cell_type": "code",
      "execution_count": 7,
      "metadata": {
        "id": "P4txhFplTekK"
      },
      "outputs": [],
      "source": [
        "class Node:\n",
        "\n",
        "  def __init__(self, value):\n",
        "    self.data = value\n",
        "    self.next = None"
      ]
    },
    {
      "cell_type": "code",
      "source": [
        "class Stack:\n",
        "\n",
        "  def __init__(self):\n",
        "    self.top = None\n",
        "\n",
        "  def isempty(self):\n",
        "    return self.top == None\n",
        "\n",
        "  def push(self, value):\n",
        "    new_node = Node(value)\n",
        "\n",
        "    new_node.next = self.top\n",
        "    self.top = new_node\n",
        "\n",
        "  def peek(self):\n",
        "    if(self.isempty()):\n",
        "      return 'Stack is empty'\n",
        "    else:\n",
        "      return self.top.data\n",
        "\n",
        "  def pop(self):\n",
        "    if (self.isempty()):\n",
        "      return 'stack is empty'\n",
        "    else:\n",
        "      data = self.top.data\n",
        "      self.top = self.top.next\n",
        "      return data\n",
        "\n",
        "\n",
        "  def lenght(self):\n",
        "    count = 0\n",
        "    if (self.isempty()):\n",
        "      return count\n",
        "    else:\n",
        "      temp = self.top\n",
        "      while temp != None:\n",
        "        count = count + 1\n",
        "        temp = temp.next\n",
        "      return count\n",
        "\n",
        "\n",
        "  def printy(self):\n",
        "    temp = self.top\n",
        "\n",
        "    while temp != None:\n",
        "      print(temp.data)\n",
        "      temp = temp.next\n",
        "\n",
        "\n"
      ],
      "metadata": {
        "id": "Cd5dHTWDTrTX"
      },
      "execution_count": 39,
      "outputs": []
    },
    {
      "cell_type": "code",
      "source": [
        "s = Stack()"
      ],
      "metadata": {
        "id": "ViaZhDKHUayI"
      },
      "execution_count": 40,
      "outputs": []
    },
    {
      "cell_type": "code",
      "source": [
        "s.isempty()"
      ],
      "metadata": {
        "colab": {
          "base_uri": "https://localhost:8080/"
        },
        "id": "uHT-IkPsUclz",
        "outputId": "5d2776b8-65a8-4823-8445-08cad208c0a7"
      },
      "execution_count": 41,
      "outputs": [
        {
          "output_type": "execute_result",
          "data": {
            "text/plain": [
              "True"
            ]
          },
          "metadata": {},
          "execution_count": 41
        }
      ]
    },
    {
      "cell_type": "code",
      "source": [
        "s.push(3)\n",
        "s.push(4)\n",
        "s.push(5)\n",
        "s.push(6)\n",
        "s.push(7)"
      ],
      "metadata": {
        "id": "eUTnUC0fUfaR"
      },
      "execution_count": 42,
      "outputs": []
    },
    {
      "cell_type": "code",
      "source": [
        "s.isempty()"
      ],
      "metadata": {
        "colab": {
          "base_uri": "https://localhost:8080/"
        },
        "id": "xjjxNaxwUhNr",
        "outputId": "e728fa39-44a7-415e-8dac-983982eec755"
      },
      "execution_count": 43,
      "outputs": [
        {
          "output_type": "execute_result",
          "data": {
            "text/plain": [
              "False"
            ]
          },
          "metadata": {},
          "execution_count": 43
        }
      ]
    },
    {
      "cell_type": "code",
      "source": [
        "s.pop()"
      ],
      "metadata": {
        "colab": {
          "base_uri": "https://localhost:8080/"
        },
        "id": "NaEsLe7SVcwE",
        "outputId": "7a5f0494-8834-4966-9e34-aed63b0a0cba"
      },
      "execution_count": 44,
      "outputs": [
        {
          "output_type": "execute_result",
          "data": {
            "text/plain": [
              "7"
            ]
          },
          "metadata": {},
          "execution_count": 44
        }
      ]
    },
    {
      "cell_type": "code",
      "source": [
        "s.printy()"
      ],
      "metadata": {
        "colab": {
          "base_uri": "https://localhost:8080/"
        },
        "id": "PlmrqqYfUi6K",
        "outputId": "69a1f052-c3d7-4566-f7ba-a4a87bba8cdc"
      },
      "execution_count": 45,
      "outputs": [
        {
          "output_type": "stream",
          "name": "stdout",
          "text": [
            "6\n",
            "5\n",
            "4\n",
            "3\n"
          ]
        }
      ]
    },
    {
      "cell_type": "code",
      "source": [
        "s.peek()"
      ],
      "metadata": {
        "colab": {
          "base_uri": "https://localhost:8080/"
        },
        "id": "6F8Ypo61U_mt",
        "outputId": "b31e783a-6ad1-4eb3-9ce4-f2dabddf8908"
      },
      "execution_count": 46,
      "outputs": [
        {
          "output_type": "execute_result",
          "data": {
            "text/plain": [
              "6"
            ]
          },
          "metadata": {},
          "execution_count": 46
        }
      ]
    },
    {
      "cell_type": "code",
      "source": [
        "s.lenght()"
      ],
      "metadata": {
        "colab": {
          "base_uri": "https://localhost:8080/"
        },
        "id": "pRrpR1hcVw_Y",
        "outputId": "f574843e-0a7a-470c-e976-4f7cf927430b"
      },
      "execution_count": 47,
      "outputs": [
        {
          "output_type": "execute_result",
          "data": {
            "text/plain": [
              "4"
            ]
          },
          "metadata": {},
          "execution_count": 47
        }
      ]
    },
    {
      "cell_type": "code",
      "source": [
        "def reverse_string(text):\n",
        "  s = Stack()\n",
        "\n",
        "  for i in text:\n",
        "    s.push(i)\n",
        "\n",
        "  new_word = ''\n",
        "  temp = s.top\n",
        "\n",
        "  while (not s.isempty()):\n",
        "    new_word =  new_word + s.pop()\n",
        "\n",
        "  return new_word"
      ],
      "metadata": {
        "id": "ydn9lRBdWbkh"
      },
      "execution_count": 48,
      "outputs": []
    },
    {
      "cell_type": "code",
      "source": [
        "reverse_string('abc')"
      ],
      "metadata": {
        "colab": {
          "base_uri": "https://localhost:8080/",
          "height": 35
        },
        "id": "I7iS5kreYgTp",
        "outputId": "acaba47e-2856-473c-d8e2-80bb9d79e3aa"
      },
      "execution_count": 49,
      "outputs": [
        {
          "output_type": "execute_result",
          "data": {
            "text/plain": [
              "'cba'"
            ],
            "application/vnd.google.colaboratory.intrinsic+json": {
              "type": "string"
            }
          },
          "metadata": {},
          "execution_count": 49
        }
      ]
    },
    {
      "cell_type": "code",
      "source": [
        "def Text_editor(stext, utext):\n",
        "  s = Stack()\n",
        "  r= Stack()\n",
        "\n",
        "  for i in stext:\n",
        "    s.push(i)\n",
        "\n",
        "  for i in utext:\n",
        "    if i == 'u':\n",
        "      data = s.pop()\n",
        "      r.push(data)\n",
        "    else:\n",
        "      data = r.pop()\n",
        "      s.push(data)\n",
        "  res = ''\n",
        "  while (not s.isempty()):\n",
        "    res = s.pop() + res\n",
        "  return res"
      ],
      "metadata": {
        "id": "MPE5Ae_7YjsS"
      },
      "execution_count": 69,
      "outputs": []
    },
    {
      "cell_type": "code",
      "source": [
        "Text_editor('kolkata', 'uuuu')"
      ],
      "metadata": {
        "colab": {
          "base_uri": "https://localhost:8080/",
          "height": 35
        },
        "id": "Fu_3IpQma5UR",
        "outputId": "37abb488-ca79-4883-b4db-1a2aafced5bb"
      },
      "execution_count": 70,
      "outputs": [
        {
          "output_type": "execute_result",
          "data": {
            "text/plain": [
              "'kol'"
            ],
            "application/vnd.google.colaboratory.intrinsic+json": {
              "type": "string"
            }
          },
          "metadata": {},
          "execution_count": 70
        }
      ]
    },
    {
      "cell_type": "code",
      "source": [
        "l = [\n",
        "    [0, 0, 1, 1],\n",
        "    [0, 0, 1, 1],\n",
        "    [1, 0, 0, 1],\n",
        "    [0, 0, 0, 0]\n",
        "]"
      ],
      "metadata": {
        "id": "OIBSlS0cgAMA"
      },
      "execution_count": 71,
      "outputs": []
    },
    {
      "cell_type": "code",
      "source": [
        "def celebrity(l):\n",
        "  s = Stack()\n",
        "\n",
        "  for i in range(len(l)):\n",
        "    s.push(i)\n",
        "\n",
        "  while s.lenght() <= 2:\n",
        "\n",
        "    i = s.pop()\n",
        "    j = s.pop()\n",
        "\n",
        "    if l[i][j] == 0:\n",
        "      s.push(i)\n",
        "    else:\n",
        "      s.push(j)\n",
        "\n",
        "  return s.top.data\n"
      ],
      "metadata": {
        "id": "rciapf7cbWBu"
      },
      "execution_count": 77,
      "outputs": []
    },
    {
      "cell_type": "code",
      "source": [
        "celebrity(l)"
      ],
      "metadata": {
        "colab": {
          "base_uri": "https://localhost:8080/"
        },
        "id": "LG-OpyT3hbAV",
        "outputId": "5c680cc5-85b3-4b3c-9277-ce45ffbc73e8"
      },
      "execution_count": 78,
      "outputs": [
        {
          "output_type": "execute_result",
          "data": {
            "text/plain": [
              "3"
            ]
          },
          "metadata": {},
          "execution_count": 78
        }
      ]
    },
    {
      "cell_type": "code",
      "source": [
        "def balance_para(text):\n",
        "  s = Stack()\n",
        "  res=''\n",
        "  open=['[', '{', '(']\n",
        "  close = [']', '{' , ')' ]\n",
        "  for i in text:\n",
        "    if  not i.isalpha() and i in open:\n",
        "      s.push(i)\n",
        "      index = open.index(i)\n",
        "    elif not i.isalpha() and i in close and i == close[index]:\n",
        "      s.pop()\n",
        "    # else:\n",
        "    #   return 'Not balanced'\n",
        "  while (not s.isempty()):\n",
        "    res = s.pop() + res\n",
        "  return res\n"
      ],
      "metadata": {
        "id": "RAGl_u7UhsXS"
      },
      "execution_count": 104,
      "outputs": []
    },
    {
      "cell_type": "code",
      "source": [
        "balance_para('[(abc)]')"
      ],
      "metadata": {
        "colab": {
          "base_uri": "https://localhost:8080/",
          "height": 35
        },
        "id": "IzcZMjDElEdn",
        "outputId": "605577a2-def0-4c6f-d6d3-969b4a02d605"
      },
      "execution_count": 109,
      "outputs": [
        {
          "output_type": "execute_result",
          "data": {
            "text/plain": [
              "'['"
            ],
            "application/vnd.google.colaboratory.intrinsic+json": {
              "type": "string"
            }
          },
          "metadata": {},
          "execution_count": 109
        }
      ]
    },
    {
      "cell_type": "code",
      "source": [],
      "metadata": {
        "id": "-5bdZnoolHTm"
      },
      "execution_count": 99,
      "outputs": []
    }
  ]
}