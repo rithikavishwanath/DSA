{
  "nbformat": 4,
  "nbformat_minor": 0,
  "metadata": {
    "colab": {
      "provenance": [],
      "authorship_tag": "ABX9TyNty0phtJtwJSdlQDLsdDF1",
      "include_colab_link": true
    },
    "kernelspec": {
      "name": "python3",
      "display_name": "Python 3"
    },
    "language_info": {
      "name": "python"
    }
  },
  "cells": [
    {
      "cell_type": "markdown",
      "metadata": {
        "id": "view-in-github",
        "colab_type": "text"
      },
      "source": [
        "<a href=\"https://colab.research.google.com/github/rithikavishwanath/DSA/blob/main/stack_using_arrays.ipynb\" target=\"_parent\"><img src=\"https://colab.research.google.com/assets/colab-badge.svg\" alt=\"Open In Colab\"/></a>"
      ]
    },
    {
      "cell_type": "code",
      "execution_count": 81,
      "metadata": {
        "id": "fLKKT89jm4uL"
      },
      "outputs": [],
      "source": [
        "# make a stack class\n",
        "\n",
        "class stack:\n",
        "\n",
        "  def __init__(self, size):\n",
        "    self.size = size\n",
        "    self.stack = [None] * self.size\n",
        "    self.top = -1\n",
        "\n",
        "  # push the element\n",
        "\n",
        "  def push(self, value):\n",
        "\n",
        "    if self.top == self.size - 1:\n",
        "      return 'stack overflow'\n",
        "    else:\n",
        "      self.top += 1\n",
        "      print(self.top)\n",
        "      self.stack[self.top] = value\n",
        "\n",
        "  # Pop the element\n",
        "\n",
        "  def pop(self):\n",
        "\n",
        "    if self.top == -1:\n",
        "      return 'Stack Underflow'\n",
        "    else:\n",
        "      self.stack[self.top ] = None\n",
        "      self.top -= 1\n",
        "\n",
        "  def traversal(self):\n",
        "\n",
        "    temp = self.top\n",
        "\n",
        "    if temp == -1:\n",
        "      return 'underflow'\n",
        "    for i in range(0, temp+1):\n",
        "      print(self.stack[i])\n",
        "\n"
      ]
    },
    {
      "cell_type": "code",
      "source": [
        "s = stack(3)"
      ],
      "metadata": {
        "id": "SOwaf9cEoD9t"
      },
      "execution_count": 82,
      "outputs": []
    },
    {
      "cell_type": "code",
      "source": [
        "s.push(9)"
      ],
      "metadata": {
        "colab": {
          "base_uri": "https://localhost:8080/"
        },
        "id": "svMdvww9oIgU",
        "outputId": "72be2398-a912-4513-8712-673dcbc2adf7"
      },
      "execution_count": 85,
      "outputs": [
        {
          "output_type": "stream",
          "name": "stdout",
          "text": [
            "2\n"
          ]
        }
      ]
    },
    {
      "cell_type": "code",
      "source": [
        "s.pop()"
      ],
      "metadata": {
        "id": "1nVxuYSJoV9R"
      },
      "execution_count": 74,
      "outputs": []
    },
    {
      "cell_type": "code",
      "source": [
        "s.stack"
      ],
      "metadata": {
        "colab": {
          "base_uri": "https://localhost:8080/"
        },
        "id": "3rrCbFp8oHN7",
        "outputId": "4a862496-72e5-434b-fa4e-49437520780c"
      },
      "execution_count": 86,
      "outputs": [
        {
          "output_type": "execute_result",
          "data": {
            "text/plain": [
              "[9, 9, 9]"
            ]
          },
          "metadata": {},
          "execution_count": 86
        }
      ]
    },
    {
      "cell_type": "code",
      "source": [
        "s.traversal()"
      ],
      "metadata": {
        "colab": {
          "base_uri": "https://localhost:8080/"
        },
        "id": "dZWdHuxNpLFH",
        "outputId": "53ce7686-c6a8-42ec-acce-813d8bd2534d"
      },
      "execution_count": 87,
      "outputs": [
        {
          "output_type": "stream",
          "name": "stdout",
          "text": [
            "9\n",
            "9\n",
            "9\n"
          ]
        }
      ]
    },
    {
      "cell_type": "code",
      "source": [],
      "metadata": {
        "id": "h1S7epZxqTdO"
      },
      "execution_count": null,
      "outputs": []
    }
  ]
}